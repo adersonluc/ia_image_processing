{
 "cells": [
  {
   "cell_type": "markdown",
   "metadata": {},
   "source": [
    "<h1>Atividade 1 - Parte B – Reconhecimento de Imagens e Visão Computacional</h1>"
   ]
  },
  {
   "cell_type": "markdown",
   "metadata": {},
   "source": [
    "Aluno: Aderson Lucas Guimarães Mendonça Medeiros<br>\n",
    "Matrícula: 1831143043"
   ]
  },
  {
   "cell_type": "markdown",
   "metadata": {},
   "source": [
    "1) Escreva um programa em que o limiar seja estimado automaticamente usando a técnica de Global Thresholding. A saída deve ser uma imagem binarizada e a entrada de ser a imagem fingerPrint.png. Qual a relação que existe entre o limiar e o número de iterações?"
   ]
  },
  {
   "cell_type": "code",
   "execution_count": 45,
   "metadata": {},
   "outputs": [],
   "source": [
    "import cv2\n",
    "import numpy as np\n",
    "import matplotlib.pyplot as plt"
   ]
  },
  {
   "cell_type": "code",
   "execution_count": 46,
   "metadata": {},
   "outputs": [],
   "source": [
    "# Carregar imagem\n",
    "image = cv2.imread('imagens/fingerPrint.png', cv2.IMREAD_GRAYSCALE)"
   ]
  },
  {
   "cell_type": "code",
   "execution_count": 47,
   "metadata": {},
   "outputs": [],
   "source": [
    "def find_global_threshold(image_fgt, threshold_fgt, error_fgt):\n",
    "    threshold_initial = threshold_fgt\n",
    "    threshold_final = -1\n",
    "    error = threshold_final - threshold_initial\n",
    "    image_fgt_final = image_fgt.copy()\n",
    "    i = 0\n",
    "    while abs(error) > error_fgt:\n",
    "        upper_class = image_fgt_final[image_fgt_final >= threshold_initial]\n",
    "        lower_class = image_fgt_final[image_fgt_final < threshold_initial]\n",
    "        upper_class_mean = 0 if upper_class.size == 0 else np.mean(upper_class)\n",
    "        lower_class_mean = 0 if lower_class.size == 0 else np.mean(lower_class)    \n",
    "        threshold_final = np.mean([upper_class_mean, lower_class_mean])\n",
    "        error = threshold_final - threshold_initial\n",
    "        threshold_initial = threshold_final\n",
    "        i += 1\n",
    "    print('threshold inicial:',threshold_initial)\n",
    "    print('threshold final:',threshold_final)\n",
    "    image_fgt_final[image_fgt_final < threshold_final] = 0\n",
    "    image_fgt_final[image_fgt_final >= threshold_final] = 255\n",
    "    return image_fgt_final, i"
   ]
  },
  {
   "cell_type": "code",
   "execution_count": 48,
   "metadata": {},
   "outputs": [
    {
     "name": "stdout",
     "output_type": "stream",
     "text": [
      "threshold inicial: 125.38601930911415\n",
      "threshold final: 125.38601930911415\n",
      "threshold inicial: 125.38601930911415\n",
      "threshold final: 125.38601930911415\n"
     ]
    }
   ],
   "source": [
    "image_binary, iterations = find_global_threshold(image, np.mean(image), 0.5)\n",
    "image_binary_compare, iterations_compare = find_global_threshold(image, 50.0, 0.5)"
   ]
  },
  {
   "cell_type": "code",
   "execution_count": 49,
   "metadata": {},
   "outputs": [
    {
     "name": "stdout",
     "output_type": "stream",
     "text": [
      "2\n"
     ]
    }
   ],
   "source": [
    "# Mostra a imagem obtida com chute inicial para o limiar de decisão igual a média dos pixels da imagem\n",
    "cv2.imshow('image', image_binary)\n",
    "cv2.waitKey()\n",
    "# Obteve-se uma quantidade de iterações igual a 2\n",
    "print(iterations)"
   ]
  },
  {
   "cell_type": "code",
   "execution_count": 50,
   "metadata": {},
   "outputs": [
    {
     "name": "stdout",
     "output_type": "stream",
     "text": [
      "4\n"
     ]
    }
   ],
   "source": [
    "# Mostra a imagem obtida com chute inicial para o limiar de decisão igual a 50\n",
    "cv2.imshow('image', image_binary_compare)\n",
    "cv2.waitKey()\n",
    "# Obteve-se uma quantidade de iterações igual a 4\n",
    "print(iterations_compare)"
   ]
  },
  {
   "cell_type": "code",
   "execution_count": 51,
   "metadata": {},
   "outputs": [
    {
     "data": {
      "text/plain": [
       "(array([ 32922., 167900.,  56406.,  31988.,   2230.,   5096.,  43282.,\n",
       "         88022., 324050.,  12588.]),\n",
       " array([ 29. ,  48.5,  68. ,  87.5, 107. , 126.5, 146. , 165.5, 185. ,\n",
       "        204.5, 224. ]),\n",
       " <a list of 10 Patch objects>)"
      ]
     },
     "execution_count": 51,
     "metadata": {},
     "output_type": "execute_result"
    },
    {
     "data": {
      "image/png": "[encoded data removed]",
      "text/plain": [
       "<Figure size 432x288 with 1 Axes>"
      ]
     },
     "metadata": {
      "needs_background": "light"
     },
     "output_type": "display_data"
    }
   ],
   "source": [
    "# Histograma para distribuição da intensidade dos pixels\n",
    "plt.hist(image.flatten())"
   ]
  },
  {
   "cell_type": "markdown",
   "metadata": {},
   "source": [
    "É possível observar que o chute inicial igual à media dos pixels está mais próximo do divisor final, enquanto o valor de 50 está mais distante."
   ]
  },
  {
   "cell_type": "markdown",
   "metadata": {},
   "source": [
    "Resposta: A relação entre o limiar de decisão e a quantidade de iterações é bastante forte, pois dependendo do chute inicial que é dado para o limiar o algoritmo pode convergir de forma muito lenta para o valor global ótimo. Dessa forma, é possível afirmar a relaçao diretamente positiva entre esses dois valores, ou seja, quanto maior o erro no chute inicial maior a quantidade de iterações se torna."
   ]
  },
  {
   "cell_type": "markdown",
   "metadata": {},
   "source": [
    "2) A imagem abaixo possui círculos e quadrados de vários tamanhos. Alguns objetos possuem um ou dois buracos dentro deles. Faça um algoritmo que use operações morfológicas e lógicas para responder as perguntas abaixo. "
   ]
  },
  {
   "cell_type": "code",
   "execution_count": 52,
   "metadata": {},
   "outputs": [],
   "source": [
    "# Carrega a imagem e normaliza para um intervalo entre 0 e 1\n",
    "image_shapes = cv2.imread('imagens/blocks.png', cv2.IMREAD_GRAYSCALE)\n",
    "# image_shapes = (image_shapes - np.min(image_shapes))/(np.max(image_shapes) - np.min(image_shapes))\n",
    "thresh, im_binary = cv2.threshold(image_shapes.copy(), 128, 255, cv2.THRESH_BINARY)"
   ]
  },
  {
   "cell_type": "code",
   "execution_count": 53,
   "metadata": {},
   "outputs": [
    {
     "data": {
      "text/plain": [
       "-1"
      ]
     },
     "execution_count": 53,
     "metadata": {},
     "output_type": "execute_result"
    }
   ],
   "source": [
    "# Show image\n",
    "cv2.imshow('image', im_binary)\n",
    "cv2.waitKey()"
   ]
  },
  {
   "cell_type": "markdown",
   "metadata": {},
   "source": [
    "(a)Que fração dos pixels da imagem são brancos? Quantos objetos a imagem possui? "
   ]
  },
  {
   "cell_type": "code",
   "execution_count": 54,
   "metadata": {},
   "outputs": [
    {
     "name": "stdout",
     "output_type": "stream",
     "text": [
      "O percentual de pixels brancos na imagem é: 21.25%\n"
     ]
    }
   ],
   "source": [
    "# Calcula a proporção de pixels brancos contando o total de pixel brancos e pretos\n",
    "fracao_branco = np.unique(im_binary, return_counts=True)[1][1]/im_binary.size\n",
    "print('O percentual de pixels brancos na imagem é: {:.2f}%'.format(100*fracao_branco))"
   ]
  },
  {
   "cell_type": "code",
   "execution_count": 55,
   "metadata": {},
   "outputs": [],
   "source": [
    "# Obter os contornos das formas encontradas e a hierarquia entre os contornos obtidos\n",
    "contorno, hierarquia = cv2.findContours(im_binary, cv2.RETR_TREE, cv2.CHAIN_APPROX_SIMPLE)\n",
    "hierarquia = hierarquia.reshape(-1,4)"
   ]
  },
  {
   "cell_type": "code",
   "execution_count": 56,
   "metadata": {},
   "outputs": [
    {
     "name": "stdout",
     "output_type": "stream",
     "text": [
      "Array de hierarquia do primeiro objeto : [ 1 -1 -1 -1] \n",
      "\n",
      "Array de hierarquia do segundo objeto : [ 2  0 -1 -1] \n",
      "\n"
     ]
    }
   ],
   "source": [
    "# Utilizando a hierarquia que retorna os respectivamte o indice da contorno seguinte, o indice do contorno anterior,\n",
    "# o indice do primeiro filho e o indice do contorno pai. Quando inexistirem o valor padrão é 0.\n",
    "print('Array de hierarquia do primeiro objeto :', hierarquia[0],'\\n')\n",
    "print('Array de hierarquia do segundo objeto :', hierarquia[1],'\\n')"
   ]
  },
  {
   "cell_type": "code",
   "execution_count": 57,
   "metadata": {},
   "outputs": [
    {
     "name": "stdout",
     "output_type": "stream",
     "text": [
      "Foram encontrados 27 objetos.\n"
     ]
    }
   ],
   "source": [
    "# Contar todos os contornos com indice de pai -1, ou seja, objetos sem pai.\n",
    "total_objetos = np.unique([objeto[-1] for objeto in hierarquia if objeto[-1] == -1], return_counts=True)\n",
    "contagem_objetos = total_objetos[1]\n",
    "print('Foram encontrados {} objetos.'.format(contagem_objetos[0]))"
   ]
  },
  {
   "cell_type": "markdown",
   "metadata": {},
   "source": [
    "(b)Quantos buracos há na imagem? Quantos objetos têm mais de um buraco? "
   ]
  },
  {
   "cell_type": "code",
   "execution_count": 58,
   "metadata": {},
   "outputs": [
    {
     "name": "stdout",
     "output_type": "stream",
     "text": [
      "Foram encontrados 10 objetos.\n"
     ]
    }
   ],
   "source": [
    "# Contar todos os contornos com indice de pai diferente de -1, ou seja, objetos com pai.\n",
    "total_objetos = np.unique([objeto[-1] for objeto in hierarquia if objeto[-1] != -1], return_counts=True)\n",
    "contagem_objetos = total_objetos[1]\n",
    "print('Foram encontrados {} objetos.'.format(np.sum(contagem_objetos)))"
   ]
  },
  {
   "cell_type": "code",
   "execution_count": 59,
   "metadata": {},
   "outputs": [
    {
     "name": "stdout",
     "output_type": "stream",
     "text": [
      "Foram encontrados 4 objetos.\n"
     ]
    }
   ],
   "source": [
    "# Contar todos os contornos com indice de pai diferente de -1 e com o mesmo pai, ou seja, objetos diferentes\n",
    "# com mesmo pai.\n",
    "total_objetos = np.unique([objeto[-1] for objeto in hierarquia if objeto[-1] != -1], return_counts=True)\n",
    "contagem_objetos = np.unique(total_objetos[1], return_counts=True)\n",
    "print('Foram encontrados {} objetos.'.format(contagem_objetos[1][1]))"
   ]
  }
 ],
 "metadata": {
  "kernelspec": {
   "display_name": "Python 3",
   "language": "python",
   "name": "python3"
  },
  "language_info": {
   "codemirror_mode": {
    "name": "ipython",
    "version": 3
   },
   "file_extension": ".py",
   "mimetype": "text/x-python",
   "name": "python",
   "nbconvert_exporter": "python",
   "pygments_lexer": "ipython3",
   "version": "3.6.7"
  }
 },
 "nbformat": 4,
 "nbformat_minor": 2
}
