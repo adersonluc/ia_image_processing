{
 "cells": [
  {
   "cell_type": "markdown",
   "metadata": {},
   "source": [
    "# Atividade 2 - Parte A - Transferência de Estilo Neural"
   ]
  },
  {
   "cell_type": "markdown",
   "metadata": {},
   "source": [
    "### Notebook baseado no artigo: [markojerkic style transfer article](https://markojerkic.com/style-transfer-keras/)"
   ]
  },
  {
   "cell_type": "markdown",
   "metadata": {},
   "source": [
    "## 1) Questão única: Faça a transferência de estilio de uma imagem de uma pintura a sua escolha para uma imagem de conteúdo também de sua escolha, mas usando as features da rede pré-treinada Resnet 50, que, por sua vez, já está importada pelo keras na célula abaixo:\n",
    "\n",
    "### a) Explique o que acontece com a imagem gerada conforme as iterações avançam.\n",
    "\n",
    "### b) Faça pelo menos três combinações de pesos de conteúdo, estilo e variância total, de modo que dois deles sejam maiores que o terceiro e compare os resultados das imagens geradas para um mesmo número de iterações."
   ]
  },
  {
   "cell_type": "markdown",
   "metadata": {},
   "source": [
    " ## 1 - Importando dependências e algumas constantes"
   ]
  },
  {
   "cell_type": "markdown",
   "metadata": {},
   "source": [
    "### * Imports:"
   ]
  },
  {
   "cell_type": "code",
   "execution_count": 37,
   "metadata": {},
   "outputs": [],
   "source": [
    "import time\n",
    "import numpy as np\n",
    "import tensorflow.contrib.keras.api.keras.backend as K\n",
    "import cv2 \n",
    "from scipy.optimize import fmin_l_bfgs_b\n",
    "from tensorflow.contrib.keras.api.keras.applications import vgg19, resnet50 # Resnet 50 importada aqui\n",
    "from tensorflow.contrib.keras.api.keras.preprocessing.image import load_img, img_to_array\n",
    "import matplotlib.pyplot as plt"
   ]
  },
  {
   "cell_type": "markdown",
   "metadata": {},
   "source": [
    "### * Constantes:"
   ]
  },
  {
   "cell_type": "code",
   "execution_count": 38,
   "metadata": {},
   "outputs": [],
   "source": [
    "CONTENT_IMG_PATH = './images/content1.jpg'\n",
    "STYLE_IMG_PATH = './images/style1.jpg'\n",
    "OUTPUT_PATH = './output/gen_img.jpg'\n",
    "\n",
    "ITER = 10\n",
    "\n",
    "# Pesos das funções perda (losses)\n",
    "CONTENT_WEIGHT = 0.01\n",
    "STYLE_WEIGHT = 1.0\n",
    "TV_WEIGHT = 1.0"
   ]
  },
  {
   "cell_type": "code",
   "execution_count": 39,
   "metadata": {},
   "outputs": [],
   "source": [
    "# Definindo o formato da imagem de saída\n",
    "height, weight = load_img(CONTENT_IMG_PATH).size\n",
    "img_h = 400\n",
    "img_w = int(height * img_h / weight)"
   ]
  },
  {
   "cell_type": "markdown",
   "metadata": {},
   "source": [
    "## 2 - Pré-processamento da imagem"
   ]
  },
  {
   "cell_type": "markdown",
   "metadata": {},
   "source": [
    "#### Aqui estamos lendo a imagem a partir de seu arquivo (imagem do tipo Pillow) e convertendo para numpy array: "
   ]
  },
  {
   "cell_type": "code",
   "execution_count": 48,
   "metadata": {},
   "outputs": [],
   "source": [
    "def preprocess(img_path):\n",
    "    img = load_img(img_path)\n",
    "    img = img_to_array(img)\n",
    "    img = cv2.resize(img, (img_w, img_h))\n",
    "    img = img.astype('float64')\n",
    "    \n",
    "    # Adiciona um novo eixo (representando o batch)\n",
    "    img = np.expand_dims(img, axis=0)\n",
    "    img = vgg19.preprocess_input(img) # Tem que modificar para a resnet 50\n",
    "    return img"
   ]
  },
  {
   "cell_type": "code",
   "execution_count": 49,
   "metadata": {},
   "outputs": [],
   "source": [
    "def deprocess_image(img):\n",
    "    if K.image_data_format() == 'channels_first':\n",
    "        img = img.reshape((3, img_h, img_w))\n",
    "        img = img.transpose((1, 2, 0))\n",
    "    else:\n",
    "        img = img.reshape((img_h, img_w, 3))\n",
    "        \n",
    "    img[:, :, 0] += 103.939\n",
    "    img[:, :, 1] += 116.779\n",
    "    img[:, :, 2] += 123.68\n",
    "    \n",
    "    # converte de 'BGR'-->'RGB'\n",
    "    img = img[:, :, ::-1]\n",
    "    img = np.clip(img, 0, 255).astype('uint8')\n",
    "    return img"
   ]
  },
  {
   "cell_type": "markdown",
   "metadata": {},
   "source": [
    "#### Aqui vamos inicializar as variáveis com a imagem de conteúdo, de estilo e a imagem gerada também:"
   ]
  },
  {
   "cell_type": "code",
   "execution_count": 50,
   "metadata": {},
   "outputs": [
    {
     "name": "stdout",
     "output_type": "stream",
     "text": [
      "WARNING:tensorflow:From C:\\Users\\AdersonLucas\\Documents\\aderson\\estudos\\pos_graduacao\\iesb\\ia\\iesb_ia\\lib\\site-packages\\tensorflow\\python\\ops\\init_ops.py:1251: calling VarianceScaling.__init__ (from tensorflow.python.ops.init_ops) with dtype is deprecated and will be removed in a future version.\n",
      "Instructions for updating:\n",
      "Call initializer instance with the dtype argument instead of passing it to the constructor\n",
      "Downloading data from https://github.com/fchollet/deep-learning-models/releases/download/v0.1/vgg19_weights_tf_dim_ordering_tf_kernels_notop.h5\n",
      "80142336/80134624 [==============================] - 52s 1us/step\n",
      "Model loaded\n"
     ]
    }
   ],
   "source": [
    "# Create Keras variables of input images\n",
    "content_img = K.variable(preprocess(CONTENT_IMG_PATH))\n",
    "style_img = K.variable(preprocess(STYLE_IMG_PATH))\n",
    "\n",
    "if K.image_data_format() == 'channels_first':\n",
    "    gen_img = K.placeholder(shape=(1, 3, img_h, img_w))\n",
    "else:\n",
    "    gen_img = K.placeholder(shape=(1, img_h, img_w, 3))\n",
    "\n",
    "# Create a single tensor containing all three images\n",
    "input_tensor = K.concatenate([content_img, style_img, gen_img], axis=0)\n",
    "\n",
    "# Create a vgg19 model by running the input tensor though the vgg19 convolutional\n",
    "# neural network, excluding the fully connected layers\n",
    "model = vgg19.VGG19(include_top=False, weights='imagenet', input_tensor=input_tensor)\n",
    "print('Model loaded')"
   ]
  },
  {
   "cell_type": "markdown",
   "metadata": {},
   "source": [
    "#### Aqui cria-se um dicionário com as saídas das camadas, em que cada chave será o nome de uma camada e o valor da chave, os valores de saída da respectiva camada:"
   ]
  },
  {
   "cell_type": "code",
   "execution_count": 52,
   "metadata": {},
   "outputs": [],
   "source": [
    "# Create an output dictionary\n",
    "outputs_dict = dict([(layer.name, layer.output) for layer in model.layers])"
   ]
  },
  {
   "cell_type": "markdown",
   "metadata": {},
   "source": [
    "## 3 - Cria-se as funções de perda ou *loss*"
   ]
  },
  {
   "cell_type": "code",
   "execution_count": 53,
   "metadata": {},
   "outputs": [],
   "source": [
    "def gram_matrix(x):\n",
    "    assert K.ndim(x) == 3\n",
    "    if K.image_data_format() == 'channels_first':\n",
    "        features = K.flatten(x)\n",
    "    else:\n",
    "        features = K.batch_flatten(K.permute_dimensions(x, (2, 0, 1)))\n",
    "    # Dot product of the flattened feature map and the transpose of the\n",
    "    # flattened feature map\n",
    "    gram = K.dot(features, K.transpose(features))\n",
    "    return gram\n",
    "\n",
    "\n",
    "def style_loss(style, gen):\n",
    "    assert K.ndim(style) == 3\n",
    "    assert K.ndim(gen) == 3\n",
    "    S = gram_matrix(style)\n",
    "    G = gram_matrix(gen)\n",
    "    channels = 3\n",
    "    size = img_h * img_w\n",
    "    # Euclidean distance of the gram matrices multiplied by the constant\n",
    "    return K.sum(K.square(S - G)) / (4. * (channels ** 2) * (size ** 2))\n",
    "\n",
    "\n",
    "def content_loss(content, gen):\n",
    "    assert K.ndim(content) == 3\n",
    "    assert K.ndim(gen) == 3\n",
    "    # Euclidean distance\n",
    "    return K.sum(K.square(gen - content))\n",
    "\n",
    "\n",
    "def total_variation_loss(x):\n",
    "    assert K.ndim(x) == 4\n",
    "    if K.image_data_format() == 'channels_first':\n",
    "        a = K.square(x[:, :, :img_h - 1, :img_w - 1] - x[:, :, 1:, :img_w - 1])\n",
    "        b = K.square(x[:, :, :img_h - 1, :img_w - 1] - x[:, :, :img_h - 1, 1:])\n",
    "    else:\n",
    "        # Move the image pixel by pixel, and calculate the variance\n",
    "        a = K.square(x[:, :img_h - 1, :img_w - 1, :] - x[:, 1:, :img_w - 1, :])\n",
    "        b = K.square(x[:, :img_h - 1, :img_w - 1, :] - x[:, :img_h - 1, 1:, :])\n",
    "    return K.sum(K.pow(a + b, 1.25))"
   ]
  },
  {
   "cell_type": "markdown",
   "metadata": {},
   "source": [
    "## 4 - Inicializa-se a função *loss* total"
   ]
  },
  {
   "cell_type": "code",
   "execution_count": 54,
   "metadata": {},
   "outputs": [],
   "source": [
    "loss = 0.\n",
    "# Para a loss de conteúdo, está sendo usad a segunda camada convolucional do quinto bloco convolucional da VGG19\n",
    "layer_features = outputs_dict['block5_conv2']\n",
    "\n",
    "content_img_features = layer_features[0, :, :, :]\n",
    "gen_img_features = layer_features[2, :, :, :]\n",
    "\n",
    "loss += CONTENT_WEIGHT * content_loss(content_img_features, gen_img_features)\n",
    "\n",
    "# Camadas usadas para informação de estilo\n",
    "feature_layer_names = ['block1_conv1', 'block2_conv1', 'block3_conv1', 'block4_conv1', 'block5_conv1']\n",
    "\n",
    "for name in feature_layer_names:\n",
    "    layer_features = outputs_dict[name]\n",
    "    \n",
    "    style_features = layer_features[1, :, :, :]\n",
    "    gen_img_features = layer_features[2, :, :, :]\n",
    "    \n",
    "    s1 = style_loss(style_features, gen_img_features)\n",
    "    \n",
    "    # Precisamos dividir a loss pelo número de camadas usadas para o estilo\n",
    "    loss += (STYLE_WEIGHT / len(feature_layer_names)) * s1\n",
    "\n",
    "# Adicionamos a loss de variância total sobre a imagem gerada\n",
    "loss += TV_WEIGHT * total_variation_loss(gen_img)"
   ]
  },
  {
   "cell_type": "markdown",
   "metadata": {},
   "source": [
    "## 5 - Calcula Loss sobre as imagens usadas e cria uma Classe Evaluator para monitorar a loss e o gradiente na otimização"
   ]
  },
  {
   "cell_type": "code",
   "execution_count": 55,
   "metadata": {},
   "outputs": [
    {
     "name": "stdout",
     "output_type": "stream",
     "text": [
      "WARNING:tensorflow:From C:\\Users\\AdersonLucas\\Documents\\aderson\\estudos\\pos_graduacao\\iesb\\ia\\iesb_ia\\lib\\site-packages\\tensorflow\\python\\ops\\math_grad.py:1205: add_dispatch_support.<locals>.wrapper (from tensorflow.python.ops.array_ops) is deprecated and will be removed in a future version.\n",
      "Instructions for updating:\n",
      "Use tf.where in 2.0, which has the same broadcast rule as np.where\n"
     ]
    }
   ],
   "source": [
    "grads = K.gradients(loss, gen_img)\n",
    "\n",
    "outputs = [loss]\n",
    "if isinstance(grads, (list, tuple)):\n",
    "    outputs += grads\n",
    "else:\n",
    "    outputs.append(grads)\n",
    "\n",
    "f_output = K.function([gen_img], outputs)\n",
    "\n",
    "def eval_loss_and_grads(x):\n",
    "    if K.image_data_format() == 'channels_first':\n",
    "        x = x.reshape((1, 3, img_h, img_w))\n",
    "    else:\n",
    "        x = x.reshape((1, img_h, img_w, 3))\n",
    "    # Atualiza a loss e o gradiente\n",
    "    outs = f_output([x])\n",
    "    loss_value = outs[0]\n",
    "    if len(outs[1:]) == 1:\n",
    "        grad_values = outs[1].flatten().astype('float64')\n",
    "    else:\n",
    "        grad_values = np.array(outs[1:]).flatten().astype('float64')\n",
    "    return loss_value, grad_values\n",
    "\n",
    "\n",
    "class Evaluator(object):\n",
    "    def __init__(self):\n",
    "        self.loss_value = None\n",
    "        self.grads_value = None\n",
    "\n",
    "    def loss(self, x):\n",
    "        assert self.loss_value is None\n",
    "        loss_value, grad_value = eval_loss_and_grads(x)\n",
    "        self.loss_value = loss_value\n",
    "        self.grads_value = grad_value\n",
    "        return self.loss_value\n",
    "\n",
    "    def grads(self, x):\n",
    "        assert self.loss_value is not None\n",
    "        grads_values = np.copy(self.grads_value)\n",
    "        self.loss_value = None\n",
    "        self.grads_value = None\n",
    "        return grads_values"
   ]
  },
  {
   "cell_type": "markdown",
   "metadata": {},
   "source": [
    "## 6 - Tempo de otimização"
   ]
  },
  {
   "cell_type": "code",
   "execution_count": 56,
   "metadata": {},
   "outputs": [
    {
     "name": "stdout",
     "output_type": "stream",
     "text": [
      "Step 0\n",
      "    loss: 295818304.0\n"
     ]
    },
    {
     "ename": "NameError",
     "evalue": "name 'imsave' is not defined",
     "output_type": "error",
     "traceback": [
      "\u001b[1;31m---------------------------------------------------------------------------\u001b[0m",
      "\u001b[1;31mNameError\u001b[0m                                 Traceback (most recent call last)",
      "\u001b[1;32m<ipython-input-56-74bc539fa093>\u001b[0m in \u001b[0;36m<module>\u001b[1;34m\u001b[0m\n\u001b[0;32m     11\u001b[0m     \u001b[1;31m# Save img\u001b[0m\u001b[1;33m\u001b[0m\u001b[1;33m\u001b[0m\u001b[1;33m\u001b[0m\u001b[0m\n\u001b[0;32m     12\u001b[0m     \u001b[0mimg\u001b[0m \u001b[1;33m=\u001b[0m \u001b[0mdeprocess_image\u001b[0m\u001b[1;33m(\u001b[0m\u001b[0mx\u001b[0m\u001b[1;33m)\u001b[0m\u001b[1;33m\u001b[0m\u001b[1;33m\u001b[0m\u001b[0m\n\u001b[1;32m---> 13\u001b[1;33m     \u001b[0mimsave\u001b[0m\u001b[1;33m(\u001b[0m\u001b[1;34m'./output/img{}.jpg'\u001b[0m\u001b[1;33m.\u001b[0m\u001b[0mformat\u001b[0m\u001b[1;33m(\u001b[0m\u001b[0mi\u001b[0m\u001b[1;33m)\u001b[0m\u001b[1;33m,\u001b[0m \u001b[0mimg\u001b[0m\u001b[1;33m)\u001b[0m\u001b[1;33m\u001b[0m\u001b[1;33m\u001b[0m\u001b[0m\n\u001b[0m\u001b[0;32m     14\u001b[0m     \u001b[0mprint\u001b[0m\u001b[1;33m(\u001b[0m\u001b[1;34m'     Image saved. Time: {}'\u001b[0m\u001b[1;33m.\u001b[0m\u001b[0mformat\u001b[0m\u001b[1;33m(\u001b[0m\u001b[0mtime\u001b[0m\u001b[1;33m.\u001b[0m\u001b[0mtime\u001b[0m\u001b[1;33m(\u001b[0m\u001b[1;33m)\u001b[0m \u001b[1;33m-\u001b[0m \u001b[0mstart_time\u001b[0m\u001b[1;33m)\u001b[0m\u001b[1;33m)\u001b[0m\u001b[1;33m\u001b[0m\u001b[1;33m\u001b[0m\u001b[0m\n\u001b[0;32m     15\u001b[0m     \u001b[0mplt\u001b[0m\u001b[1;33m.\u001b[0m\u001b[0mfigure\u001b[0m\u001b[1;33m(\u001b[0m\u001b[0mfigsize\u001b[0m\u001b[1;33m=\u001b[0m\u001b[1;33m(\u001b[0m\u001b[1;36m20\u001b[0m\u001b[1;33m,\u001b[0m\u001b[1;36m10\u001b[0m\u001b[1;33m)\u001b[0m\u001b[1;33m)\u001b[0m\u001b[1;33m\u001b[0m\u001b[1;33m\u001b[0m\u001b[0m\n",
      "\u001b[1;31mNameError\u001b[0m: name 'imsave' is not defined"
     ]
    }
   ],
   "source": [
    "evaluator = Evaluator()\n",
    "\n",
    "# Run L-BFGS optimizer\n",
    "x = preprocess(CONTENT_IMG_PATH)\n",
    "\n",
    "for i in range(ITER):\n",
    "    print('Step {}'.format(i))\n",
    "    start_time = time.time()\n",
    "    x, min_val, info = fmin_l_bfgs_b(evaluator.loss, x.flatten(), fprime=evaluator.grads, maxiter=300)\n",
    "    print('    loss: {}'.format(min_val))\n",
    "    # Save img\n",
    "    img = deprocess_image(x)\n",
    "    cv2.imwrite('./output/img{}.jpg'.format(i), img)\n",
    "    print('     Image saved. Time: {}'.format(time.time() - start_time))\n",
    "    plt.figure(figsize=(20,10))\n",
    "    plt.imshow(img)\n",
    "    plt.title('img{}'.format(i))\n",
    "    plt.show()"
   ]
  }
 ],
 "metadata": {
  "kernelspec": {
   "display_name": "Python 3",
   "language": "python",
   "name": "python3"
  },
  "language_info": {
   "codemirror_mode": {
    "name": "ipython",
    "version": 3
   },
   "file_extension": ".py",
   "mimetype": "text/x-python",
   "name": "python",
   "nbconvert_exporter": "python",
   "pygments_lexer": "ipython3",
   "version": "3.6.7"
  }
 },
 "nbformat": 4,
 "nbformat_minor": 2
}
