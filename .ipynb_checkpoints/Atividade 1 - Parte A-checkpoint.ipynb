{
 "cells": [
  {
   "cell_type": "markdown",
   "metadata": {},
   "source": [
    "<b>Atividade 1 - Parte A – Reconhecimento de Imagens e Visão Computacional</b>"
   ]
  },
  {
   "cell_type": "markdown",
   "metadata": {},
   "source": [
    "Aluno: Aderson Lucas Guimarães Mendonça Medeiros<br>\n",
    "Matrícula: 1831143043"
   ]
  },
  {
   "cell_type": "markdown",
   "metadata": {},
   "source": [
    "<b>Exercício 1</b>"
   ]
  },
  {
   "cell_type": "markdown",
   "metadata": {},
   "source": [
    "a)"
   ]
  },
  {
   "cell_type": "code",
   "execution_count": 28,
   "metadata": {},
   "outputs": [],
   "source": [
    "import cv2\n",
    "import numpy as np\n",
    "import matplotlib.pyplot as plt\n",
    "# %matplotlib inline\n",
    "\n",
    "def rescale_image(image, proportion, file_path=True, interpolation='vizinho'):\n",
    "    if file_path:\n",
    "        image = cv2.imread(image)\n",
    "    else:\n",
    "        image = image\n",
    "    if proportion >= 1:\n",
    "        row, col, _ = image.shape\n",
    "        new_row, new_col, _ = [entry*proportion for entry in image.shape]\n",
    "        row_index = 1\n",
    "        resto_sum = 0\n",
    "        row_expanded_index = np.array([], dtype=int)\n",
    "        while row_index < new_row:\n",
    "            qtd_row_insert = proportion - 1\n",
    "            while qtd_row_insert >= 0:\n",
    "                if qtd_row_insert >= 1:\n",
    "                    image = np.insert(image, row_index, 0, axis=0)\n",
    "                    row_expanded_index = np.append(row_expanded_index, [row_index], axis=0)\n",
    "                    row_index += 1\n",
    "                    qtd_row_insert -= 1\n",
    "                elif qtd_row_insert >= 0:\n",
    "                    resto_sum += qtd_row_insert\n",
    "                    row_index += 1\n",
    "                    qtd_row_insert -= 1\n",
    "                if resto_sum >= 1:\n",
    "                    image = np.insert(image, row_index, 0, axis=0)\n",
    "                    row_expanded_index = np.append(row_expanded_index, [row_index], axis=0)\n",
    "                    row_index += 1\n",
    "                    resto_sum -= 1\n",
    "                row, _, _ = image.shape\n",
    "        \n",
    "        col_index = 1\n",
    "        resto_sum = 0\n",
    "        col_expanded_index = np.array([], dtype=int)\n",
    "        while col_index < new_col:\n",
    "            qtd_col_insert = proportion - 1\n",
    "            while qtd_col_insert >= 0:\n",
    "                if qtd_col_insert >= 1:\n",
    "                    image = np.insert(image, col_index, 0, axis=1)\n",
    "                    col_expanded_index = np.append(col_expanded_index, [col_index], axis=0)\n",
    "                    col_index += 1\n",
    "                    qtd_col_insert -= 1\n",
    "                elif qtd_col_insert >= 0:\n",
    "                    resto_sum += qtd_col_insert\n",
    "                    col_index += 1\n",
    "                    qtd_col_insert -= 1\n",
    "                if resto_sum >= 1:\n",
    "                    image = np.insert(image, col_index, 0, axis=1)\n",
    "                    col_expanded_index = np.append(col_expanded_index, [col_index], axis=0)\n",
    "                    col_index += 1\n",
    "                    resto_sum -= 1\n",
    "                _, col, _ = image.shape\n",
    "        \n",
    "        if interpolation == 'vizinho':\n",
    "            for row_index in row_expanded_index:\n",
    "                for i in range(len(image[row_index][:])):\n",
    "                    image[row_index][i] = image[row_index-1][i]\n",
    "\n",
    "            for col_index in col_expanded_index:\n",
    "                for i in range(len(image[:][col_index])):\n",
    "                    image[i][col_index] = image[i][col_index-1]\n",
    "        elif interpolation == 'bilinear':\n",
    "            row, col, _ = image.shape\n",
    "            for i in range(row-1):\n",
    "                for j in range(col-1):\n",
    "                    print(i in col_expanded_index and j not in row_expanded_index)\n",
    "                    if i in col_expanded_index and j not in row_expanded_index:\n",
    "                        image[i][j][0] = (image[i][j-1][0] + image[i][j+1][0])/2\n",
    "                        image[i][j][1] = (image[i][j-1][1] + image[i][j+1][1])/2\n",
    "                        image[i][j][2] = (image[i][j-1][2] + image[i][j+1][2])/2\n",
    "                        print(i, j, image[i][j])\n",
    "                    elif i not in col_expanded_index and j in row_expanded_index:\n",
    "                        image[i][j][0] = (image[i-1][j][0] + image[i+1][j][0])/2\n",
    "                        image[i][j][1] = (image[i-1][j][1] + image[i+1][j][1])/2\n",
    "                        image[i][j][2] = (image[i-1][j][2] + image[i+1][j][2])/2\n",
    "                    elif i in col_expanded_index and j in row_expanded_index:\n",
    "                        image[i][j] = (image[i-1][j-1] + image[i-1][j+1] + image[i+1][j-1] + image[i+1][j+1])/4\n",
    "                        \n",
    "\n",
    "    elif proportion > 0:\n",
    "        proportion_division = 1/proportion\n",
    "        row, col, _ = image.shape\n",
    "        row_scale = [r for r in range(row) if not (int(r%proportion_division) == 0)]\n",
    "        col_scale = [c for c in range(col) if not (int(c%proportion_division) == 0)]\n",
    "        image = np.delete(image, row_scale, axis=0)\n",
    "        image = np.delete(image, col_scale, axis=1)\n",
    "    \n",
    "    return image"
   ]
  },
  {
   "cell_type": "markdown",
   "metadata": {},
   "source": [
    "b)"
   ]
  },
  {
   "cell_type": "code",
   "execution_count": 29,
   "metadata": {
    "scrolled": false
   },
   "outputs": [],
   "source": [
    "imagem1_2 = rescale_image('Atividade 1 - Parte A/imagens/lenna.png', proportion=1/2)\n",
    "imagem1_4 = rescale_image('Atividade 1 - Parte A/imagens/lenna.png', proportion=1/4)\n",
    "imagem1_8 = rescale_image('Atividade 1 - Parte A/imagens/lenna.png', proportion=1/8)\n",
    "imagem1_16 = rescale_image('Atividade 1 - Parte A/imagens/lenna.png', proportion=1/16)\n",
    "imagem2 = rescale_image(imagem1_2, proportion=2, file_path=False)\n",
    "imagem4 = rescale_image(imagem1_4, proportion=4, file_path=False)\n",
    "imagem8 = rescale_image(imagem1_8, proportion=8, file_path=False)\n",
    "imagem16 = rescale_image(imagem1_16, proportion=16, file_path=False)"
   ]
  },
  {
   "cell_type": "code",
   "execution_count": 17,
   "metadata": {},
   "outputs": [
    {
     "data": {
      "text/plain": [
       "-1"
      ]
     },
     "execution_count": 17,
     "metadata": {},
     "output_type": "execute_result"
    }
   ],
   "source": [
    "cv2.imshow('imagem1_2', imagem1_2)\n",
    "cv2.waitKey()\n",
    "cv2.imshow('imagem1_4', imagem1_4)\n",
    "cv2.waitKey()\n",
    "cv2.imshow('imagem1_8', imagem1_8)\n",
    "cv2.waitKey()\n",
    "cv2.imshow('imagem1_16', imagem1_16)\n",
    "cv2.waitKey()"
   ]
  },
  {
   "cell_type": "code",
   "execution_count": 18,
   "metadata": {},
   "outputs": [
    {
     "data": {
      "text/plain": [
       "-1"
      ]
     },
     "execution_count": 18,
     "metadata": {},
     "output_type": "execute_result"
    }
   ],
   "source": [
    "resized_frame = cv2.vconcat([cv2.hconcat([imagem2, imagem4]), cv2.hconcat([imagem8, imagem16])])\n",
    "cv2.imshow('resized', resized_frame)\n",
    "cv2.waitKey()"
   ]
  },
  {
   "cell_type": "markdown",
   "metadata": {},
   "source": [
    "c)"
   ]
  },
  {
   "cell_type": "code",
   "execution_count": 25,
   "metadata": {},
   "outputs": [],
   "source": [
    "imagem1_2_bilinear = rescale_image('Atividade 1 - Parte A/imagens/lenna.png', proportion=1/2, interpolation='bilinear')\n",
    "imagem1_4_bilinear = rescale_image('Atividade 1 - Parte A/imagens/lenna.png', proportion=1/4, interpolation='bilinear')\n",
    "imagem1_8_bilinear = rescale_image('Atividade 1 - Parte A/imagens/lenna.png', proportion=1/8, interpolation='bilinear')\n",
    "imagem1_16_bilinear = rescale_image('Atividade 1 - Parte A/imagens/lenna.png', proportion=1/16, interpolation='bilinear')\n",
    "imagem2_bilinear = rescale_image(imagem1_2_bilinear, proportion=2, file_path=False, interpolation='bilinear')\n",
    "imagem4_bilinear = rescale_image(imagem1_4_bilinear, proportion=4, file_path=False, interpolation='bilinear')\n",
    "imagem8_bilinear = rescale_image(imagem1_8_bilinear, proportion=8, file_path=False, interpolation='bilinear')\n",
    "imagem16_bilinear = rescale_image(imagem1_16_bilinear, proportion=16, file_path=False, interpolation='bilinear')"
   ]
  },
  {
   "cell_type": "code",
   "execution_count": 22,
   "metadata": {},
   "outputs": [
    {
     "data": {
      "text/plain": [
       "-1"
      ]
     },
     "execution_count": 22,
     "metadata": {},
     "output_type": "execute_result"
    }
   ],
   "source": [
    "cv2.imshow('imagem1_2_bilinear', imagem1_2)\n",
    "cv2.waitKey()\n",
    "cv2.imshow('imagem1_4_bilinear', imagem1_4)\n",
    "cv2.waitKey()\n",
    "cv2.imshow('imagem1_8_bilinear', imagem1_8)\n",
    "cv2.waitKey()\n",
    "cv2.imshow('imagem1_16_bilinear', imagem1_16)\n",
    "cv2.waitKey()"
   ]
  },
  {
   "cell_type": "code",
   "execution_count": 27,
   "metadata": {},
   "outputs": [
    {
     "data": {
      "text/plain": [
       "-1"
      ]
     },
     "execution_count": 27,
     "metadata": {},
     "output_type": "execute_result"
    }
   ],
   "source": [
    "resized_frame = cv2.vconcat([cv2.hconcat([imagem2_bilinear, imagem4_bilinear]),\n",
    "                             cv2.hconcat([imagem8_bilinear, imagem16_bilinear])])\n",
    "cv2.imshow('resized', resized_frame)\n",
    "cv2.waitKey()"
   ]
  }
 ],
 "metadata": {
  "kernelspec": {
   "display_name": "Python 3",
   "language": "python",
   "name": "python3"
  },
  "language_info": {
   "codemirror_mode": {
    "name": "ipython",
    "version": 3
   },
   "file_extension": ".py",
   "mimetype": "text/x-python",
   "name": "python",
   "nbconvert_exporter": "python",
   "pygments_lexer": "ipython3",
   "version": "3.6.7"
  }
 },
 "nbformat": 4,
 "nbformat_minor": 2
}
