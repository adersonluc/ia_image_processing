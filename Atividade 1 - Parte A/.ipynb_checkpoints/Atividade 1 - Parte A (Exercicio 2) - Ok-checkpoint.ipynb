{
 "cells": [
  {
   "cell_type": "markdown",
   "metadata": {},
   "source": [
    "<b>Exercício 2</b>"
   ]
  },
  {
   "cell_type": "code",
   "execution_count": 1,
   "metadata": {},
   "outputs": [],
   "source": [
    "# imports packages\n",
    "import cv2\n",
    "import numpy as np\n",
    "import matplotlib.pyplot as plt"
   ]
  },
  {
   "cell_type": "code",
   "execution_count": 2,
   "metadata": {},
   "outputs": [],
   "source": [
    "# Exibe as images passadas como parametro\n",
    "def show_subplots_image(image_array_ssi, image_title, nrow_ssi, ncol_ssi, fig_size_array_ssi, cmap_ssi=None):\n",
    "    fig, axes = plt.subplots(nrow_ssi, ncol_ssi, figsize=fig_size_array_ssi)\n",
    "    for ax, image_ssi, title in zip(axes.flatten(), image_array_ssi, image_title):\n",
    "        ax.axis('off')\n",
    "        ax.set_title(title)\n",
    "        fig.tight_layout()\n",
    "        ax.imshow(image_ssi, cmap=cmap_ssi)"
   ]
  },
  {
   "cell_type": "markdown",
   "metadata": {},
   "source": [
    "a) Escreva uma função que realize a filtragem espacial de uma imagem. Essa função terá 2 parâmetros de entrada:  a imagem a ser transformada e o filtro a ser utilizado."
   ]
  },
  {
   "cell_type": "code",
   "execution_count": 3,
   "metadata": {},
   "outputs": [],
   "source": [
    "# realiza a filtragem espacial aplicando o filtro na imagem\n",
    "def filtragem_espacial(image_fe:np.array, filtro_fe:np.array):\n",
    "    padding_size = (int(filtro_fe.shape[0]/2), int(filtro_fe.shape[1]/2))\n",
    "    imagem_transicao = np.copy(np.pad(image_fe, padding_size, 'constant', constant_values=(0)))\n",
    "    imagem_filtrada = np.zeros(image_fe.shape)\n",
    "    \n",
    "    for i in range(padding_size[0], imagem_transicao.shape[0] - padding_size[0]):\n",
    "        for j in range(padding_size[1], imagem_transicao.shape[1] - padding_size[1]):\n",
    "            if i - 1 < image_fe.shape[0] and j - 1 < image_fe.shape[1]:\n",
    "                imagem_filtrada[i - 1, j - 1] = int(np.sum((imagem_transicao[i-padding_size[0]:i+padding_size[0]+1,j-padding_size[1]:j+padding_size[1]+1].flatten())*(filtro_fe.flatten())))\n",
    "    imagem_final = cv2.normalize(imagem_filtrada,None,alpha=np.min(imagem_filtrada), \n",
    "                                beta=np.max(imagem_filtrada), norm_type=cv2.NORM_MINMAX)\n",
    "    return imagem_final"
   ]
  },
  {
   "cell_type": "markdown",
   "metadata": {},
   "source": [
    "b) Aplique os filtros abaixo na imagem da Lena (que foi enviada com o trabalho). Compare os resultados obtidos para cada um dos filtros. Com base nestes resultados, qual o tipo de filtro (passa-alta, passa\n",
    "baixa, passa-faixa, etc.)  que está sendo utilizado em cada caso e qual o efeito de cada filtro na imagem."
   ]
  },
  {
   "cell_type": "code",
   "execution_count": 4,
   "metadata": {},
   "outputs": [],
   "source": [
    "# carrega a imagem da lenna\n",
    "image_exercicio_2 = cv2.imread('../imagens/lenna.png', cv2.IMREAD_GRAYSCALE)\n",
    "IMAGE_SIZE = [12,12]"
   ]
  },
  {
   "cell_type": "code",
   "execution_count": 5,
   "metadata": {},
   "outputs": [],
   "source": [
    "# carrega os filtros para o exercício\n",
    "filter_list_exercicio_2b = [\n",
    "                            np.array(np.dot((1/9),[[1,1,1],[1,1,1],[1,1,1]])),\n",
    "                            np.array(np.dot((1/16),[[1,2,1],[2,4,2],[1,2,1]])),\n",
    "                            np.array([[0,-1,0],[-1,5,-1],[0,-1,0]]),\n",
    "                            np.array([[-1,-1,-1],[-1,8,-1],[-1,-1,-1]]),\n",
    "                            np.array([[1,2,1],[0,0,0],[-1,-2,-1]])\n",
    "                        ]\n",
    "\n",
    "# Título dos gráficos\n",
    "filter_list_exercicio_2b_titles = ['Imagem Original',\n",
    "                                   'Filtro de Média 1/9',\n",
    "                                   'Filtro de Média 1/16',\n",
    "                                   'Laplaciano com 5 no centro',\n",
    "                                   'Laplaciano com 8 no centro',\n",
    "                                   'Último filtro']"
   ]
  },
  {
   "cell_type": "code",
   "execution_count": 6,
   "metadata": {},
   "outputs": [
    {
     "ename": "AttributeError",
     "evalue": "'NoneType' object has no attribute 'shape'",
     "output_type": "error",
     "traceback": [
      "\u001b[1;31m---------------------------------------------------------------------------\u001b[0m",
      "\u001b[1;31mAttributeError\u001b[0m                            Traceback (most recent call last)",
      "\u001b[1;32m<ipython-input-6-e1e5db891dc4>\u001b[0m in \u001b[0;36m<module>\u001b[1;34m\u001b[0m\n\u001b[0;32m      1\u001b[0m \u001b[1;31m# Aplicar o filtro na imagem usando os filtros acima e Agrega a imagem original\u001b[0m\u001b[1;33m\u001b[0m\u001b[1;33m\u001b[0m\u001b[1;33m\u001b[0m\u001b[0m\n\u001b[0;32m      2\u001b[0m \u001b[0mimage_filtered_list\u001b[0m \u001b[1;33m=\u001b[0m\u001b[0;31m \u001b[0m\u001b[0;31m\\\u001b[0m\u001b[1;33m\u001b[0m\u001b[1;33m\u001b[0m\u001b[0m\n\u001b[1;32m----> 3\u001b[1;33m     \u001b[0mnp\u001b[0m\u001b[1;33m.\u001b[0m\u001b[0marray\u001b[0m\u001b[1;33m(\u001b[0m\u001b[1;33m[\u001b[0m\u001b[0mfiltragem_espacial\u001b[0m\u001b[1;33m(\u001b[0m\u001b[0mimage_exercicio_2\u001b[0m\u001b[1;33m,\u001b[0m \u001b[0mfilter_2b\u001b[0m\u001b[1;33m)\u001b[0m \u001b[1;32mfor\u001b[0m \u001b[0mfilter_2b\u001b[0m \u001b[1;32min\u001b[0m \u001b[0mfilter_list_exercicio_2b\u001b[0m\u001b[1;33m]\u001b[0m\u001b[1;33m)\u001b[0m\u001b[1;33m\u001b[0m\u001b[1;33m\u001b[0m\u001b[0m\n\u001b[0m\u001b[0;32m      4\u001b[0m \u001b[0mimage_filtered_list\u001b[0m \u001b[1;33m=\u001b[0m \u001b[0mnp\u001b[0m\u001b[1;33m.\u001b[0m\u001b[0mconcatenate\u001b[0m\u001b[1;33m(\u001b[0m\u001b[1;33m(\u001b[0m\u001b[1;33m[\u001b[0m\u001b[0mimage_exercicio_2\u001b[0m\u001b[1;33m]\u001b[0m\u001b[1;33m,\u001b[0m \u001b[0mimage_filtered_list\u001b[0m\u001b[1;33m)\u001b[0m\u001b[1;33m)\u001b[0m\u001b[1;33m\u001b[0m\u001b[1;33m\u001b[0m\u001b[0m\n",
      "\u001b[1;32m<ipython-input-6-e1e5db891dc4>\u001b[0m in \u001b[0;36m<listcomp>\u001b[1;34m(.0)\u001b[0m\n\u001b[0;32m      1\u001b[0m \u001b[1;31m# Aplicar o filtro na imagem usando os filtros acima e Agrega a imagem original\u001b[0m\u001b[1;33m\u001b[0m\u001b[1;33m\u001b[0m\u001b[1;33m\u001b[0m\u001b[0m\n\u001b[0;32m      2\u001b[0m \u001b[0mimage_filtered_list\u001b[0m \u001b[1;33m=\u001b[0m\u001b[0;31m \u001b[0m\u001b[0;31m\\\u001b[0m\u001b[1;33m\u001b[0m\u001b[1;33m\u001b[0m\u001b[0m\n\u001b[1;32m----> 3\u001b[1;33m     \u001b[0mnp\u001b[0m\u001b[1;33m.\u001b[0m\u001b[0marray\u001b[0m\u001b[1;33m(\u001b[0m\u001b[1;33m[\u001b[0m\u001b[0mfiltragem_espacial\u001b[0m\u001b[1;33m(\u001b[0m\u001b[0mimage_exercicio_2\u001b[0m\u001b[1;33m,\u001b[0m \u001b[0mfilter_2b\u001b[0m\u001b[1;33m)\u001b[0m \u001b[1;32mfor\u001b[0m \u001b[0mfilter_2b\u001b[0m \u001b[1;32min\u001b[0m \u001b[0mfilter_list_exercicio_2b\u001b[0m\u001b[1;33m]\u001b[0m\u001b[1;33m)\u001b[0m\u001b[1;33m\u001b[0m\u001b[1;33m\u001b[0m\u001b[0m\n\u001b[0m\u001b[0;32m      4\u001b[0m \u001b[0mimage_filtered_list\u001b[0m \u001b[1;33m=\u001b[0m \u001b[0mnp\u001b[0m\u001b[1;33m.\u001b[0m\u001b[0mconcatenate\u001b[0m\u001b[1;33m(\u001b[0m\u001b[1;33m(\u001b[0m\u001b[1;33m[\u001b[0m\u001b[0mimage_exercicio_2\u001b[0m\u001b[1;33m]\u001b[0m\u001b[1;33m,\u001b[0m \u001b[0mimage_filtered_list\u001b[0m\u001b[1;33m)\u001b[0m\u001b[1;33m)\u001b[0m\u001b[1;33m\u001b[0m\u001b[1;33m\u001b[0m\u001b[0m\n",
      "\u001b[1;32m<ipython-input-3-47024fc97353>\u001b[0m in \u001b[0;36mfiltragem_espacial\u001b[1;34m(image_fe, filtro_fe)\u001b[0m\n\u001b[0;32m      3\u001b[0m     \u001b[0mpadding_size\u001b[0m \u001b[1;33m=\u001b[0m \u001b[1;33m(\u001b[0m\u001b[0mint\u001b[0m\u001b[1;33m(\u001b[0m\u001b[0mfiltro_fe\u001b[0m\u001b[1;33m.\u001b[0m\u001b[0mshape\u001b[0m\u001b[1;33m[\u001b[0m\u001b[1;36m0\u001b[0m\u001b[1;33m]\u001b[0m\u001b[1;33m/\u001b[0m\u001b[1;36m2\u001b[0m\u001b[1;33m)\u001b[0m\u001b[1;33m,\u001b[0m \u001b[0mint\u001b[0m\u001b[1;33m(\u001b[0m\u001b[0mfiltro_fe\u001b[0m\u001b[1;33m.\u001b[0m\u001b[0mshape\u001b[0m\u001b[1;33m[\u001b[0m\u001b[1;36m1\u001b[0m\u001b[1;33m]\u001b[0m\u001b[1;33m/\u001b[0m\u001b[1;36m2\u001b[0m\u001b[1;33m)\u001b[0m\u001b[1;33m)\u001b[0m\u001b[1;33m\u001b[0m\u001b[1;33m\u001b[0m\u001b[0m\n\u001b[0;32m      4\u001b[0m     \u001b[0mimagem_transicao\u001b[0m \u001b[1;33m=\u001b[0m \u001b[0mnp\u001b[0m\u001b[1;33m.\u001b[0m\u001b[0mcopy\u001b[0m\u001b[1;33m(\u001b[0m\u001b[0mnp\u001b[0m\u001b[1;33m.\u001b[0m\u001b[0mpad\u001b[0m\u001b[1;33m(\u001b[0m\u001b[0mimage_fe\u001b[0m\u001b[1;33m,\u001b[0m \u001b[0mpadding_size\u001b[0m\u001b[1;33m,\u001b[0m \u001b[1;34m'constant'\u001b[0m\u001b[1;33m,\u001b[0m \u001b[0mconstant_values\u001b[0m\u001b[1;33m=\u001b[0m\u001b[1;33m(\u001b[0m\u001b[1;36m0\u001b[0m\u001b[1;33m)\u001b[0m\u001b[1;33m)\u001b[0m\u001b[1;33m)\u001b[0m\u001b[1;33m\u001b[0m\u001b[1;33m\u001b[0m\u001b[0m\n\u001b[1;32m----> 5\u001b[1;33m     \u001b[0mimagem_filtrada\u001b[0m \u001b[1;33m=\u001b[0m \u001b[0mnp\u001b[0m\u001b[1;33m.\u001b[0m\u001b[0mzeros\u001b[0m\u001b[1;33m(\u001b[0m\u001b[0mimage_fe\u001b[0m\u001b[1;33m.\u001b[0m\u001b[0mshape\u001b[0m\u001b[1;33m)\u001b[0m\u001b[1;33m\u001b[0m\u001b[1;33m\u001b[0m\u001b[0m\n\u001b[0m\u001b[0;32m      6\u001b[0m \u001b[1;33m\u001b[0m\u001b[0m\n\u001b[0;32m      7\u001b[0m     \u001b[1;32mfor\u001b[0m \u001b[0mi\u001b[0m \u001b[1;32min\u001b[0m \u001b[0mrange\u001b[0m\u001b[1;33m(\u001b[0m\u001b[0mpadding_size\u001b[0m\u001b[1;33m[\u001b[0m\u001b[1;36m0\u001b[0m\u001b[1;33m]\u001b[0m\u001b[1;33m,\u001b[0m \u001b[0mimagem_transicao\u001b[0m\u001b[1;33m.\u001b[0m\u001b[0mshape\u001b[0m\u001b[1;33m[\u001b[0m\u001b[1;36m0\u001b[0m\u001b[1;33m]\u001b[0m \u001b[1;33m-\u001b[0m \u001b[0mpadding_size\u001b[0m\u001b[1;33m[\u001b[0m\u001b[1;36m0\u001b[0m\u001b[1;33m]\u001b[0m\u001b[1;33m)\u001b[0m\u001b[1;33m:\u001b[0m\u001b[1;33m\u001b[0m\u001b[1;33m\u001b[0m\u001b[0m\n",
      "\u001b[1;31mAttributeError\u001b[0m: 'NoneType' object has no attribute 'shape'"
     ]
    }
   ],
   "source": [
    "# Aplicar o filtro na imagem usando os filtros acima e Agrega a imagem original\n",
    "image_filtered_list = \\\n",
    "    np.array([filtragem_espacial(image_exercicio_2, filter_2b) for filter_2b in filter_list_exercicio_2b])\n",
    "image_filtered_list = np.concatenate(([image_exercicio_2], image_filtered_list))"
   ]
  },
  {
   "cell_type": "code",
   "execution_count": null,
   "metadata": {},
   "outputs": [],
   "source": [
    "# exibe as imagens finais\n",
    "show_subplots_image(image_filtered_list, filter_list_exercicio_2b_titles, 3, 2, IMAGE_SIZE, 'gray')"
   ]
  },
  {
   "cell_type": "markdown",
   "metadata": {},
   "source": [
    "c) O filtro 1 possui tamanho 3x3. O que aconteceria se aumentássemos o tamanho do filtro para 11x11, 17x17 ou 35x35? De que forma o tamanho do filtro afeta a imagem?"
   ]
  },
  {
   "cell_type": "code",
   "execution_count": null,
   "metadata": {},
   "outputs": [],
   "source": [
    "# Carrega os filtros de média multiplicado por 1/9 com vários tamanhos de matrix\n",
    "filter_list_exercicio_2c = np.array([np.dot((1/9), np.ones((3,3))),\n",
    "                            np.dot((1/9), np.ones((11,11))),\n",
    "                            np.dot((1/9), np.ones((17,17))),\n",
    "                            np.dot((1/9), np.ones((35,35)))])\n",
    "\n",
    "# Carregas os títulos dos gráficos\n",
    "ilter_list_exercicio_2c_titles = ['Filtro 3 x 3', \n",
    "                                  'Filtro 11 x 11', \n",
    "                                  'Filtro 17 x 17', \n",
    "                                  'Filtro 35 x 35']"
   ]
  },
  {
   "cell_type": "code",
   "execution_count": null,
   "metadata": {},
   "outputs": [],
   "source": [
    "# Aplicar o filtro na imagem usando os filtros acima\n",
    "imagem_filtrada_list_exercicio_2c = \\\n",
    "    [filtragem_espacial(image_exercicio_2, filtro_2c) for filtro_2c in filter_list_exercicio_2c]"
   ]
  },
  {
   "cell_type": "code",
   "execution_count": null,
   "metadata": {},
   "outputs": [],
   "source": [
    "# Show images\n",
    "show_subplots_image(imagem_filtrada_list_exercicio_2c, ilter_list_exercicio_2c_titles, 2, 2, IMAGE_SIZE, 'gray')"
   ]
  }
 ],
 "metadata": {
  "kernelspec": {
   "display_name": "Python 3",
   "language": "python",
   "name": "python3"
  },
  "language_info": {
   "codemirror_mode": {
    "name": "ipython",
    "version": 3
   },
   "file_extension": ".py",
   "mimetype": "text/x-python",
   "name": "python",
   "nbconvert_exporter": "python",
   "pygments_lexer": "ipython3",
   "version": "3.7.5"
  }
 },
 "nbformat": 4,
 "nbformat_minor": 2
}
