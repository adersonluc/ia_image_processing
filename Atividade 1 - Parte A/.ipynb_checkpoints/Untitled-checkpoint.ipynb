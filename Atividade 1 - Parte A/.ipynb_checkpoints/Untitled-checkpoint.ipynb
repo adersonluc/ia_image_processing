{
 "cells": [
  {
   "cell_type": "markdown",
   "metadata": {},
   "source": [
    "<b>Exercício 4</b>"
   ]
  },
  {
   "cell_type": "code",
   "execution_count": 1,
   "metadata": {},
   "outputs": [],
   "source": [
    "# imports packages\n",
    "import cv2\n",
    "import numpy as np\n",
    "import matplotlib.pyplot as plt"
   ]
  },
  {
   "cell_type": "code",
   "execution_count": 2,
   "metadata": {},
   "outputs": [],
   "source": [
    "# Show images\n",
    "def show_subplots_image(image_array, nrow,ncol,fig_size_array, cmap=None):\n",
    "    fig, axes = plt.subplots(nrow, ncol, figsize=fig_size_array)\n",
    "    for ax, image in zip(axes.flatten(), image_array):\n",
    "        ax.axis('off')\n",
    "        fig.tight_layout()\n",
    "        ax.imshow(image, cmap=cmap)"
   ]
  },
  {
   "cell_type": "code",
   "execution_count": 3,
   "metadata": {},
   "outputs": [],
   "source": [
    "def gerar_modulo(image_list, s:tuple=None, transform=None):\n",
    "    fft_image = [np.fft.fft2(image_mod, s=s) for image_mod in image_list]    \n",
    "    fft_filters_shift = [np.fft.fftshift(image_mod) for image_mod in fft_image]\n",
    "    \n",
    "    if transform == None:\n",
    "        return [np.abs(fft_image) for fft_image in fft_filters_shift]\n",
    "    else:\n",
    "        return [np.abs(transform(fft_image)) for fft_image in fft_filters_shift]"
   ]
  },
  {
   "cell_type": "code",
   "execution_count": 4,
   "metadata": {},
   "outputs": [],
   "source": [
    "def gerar_modulo_imagem_filtrada(image_mod_filt, filter_list):\n",
    "    fft_filters_shift_abs = gerar_modulo(filter_list, s=image_mod_filt.shape)\n",
    "    fft_image = np.fft.fft2(image_mod_filt)\n",
    "    fft_image_shift = np.fft.fftshift(fft_image)\n",
    "    fft_image_filtered_list = [fft_image_shift*filter_ex4 for filter_ex4 in fft_filters_shift_abs]\n",
    "    ifft_shift_image_filtered_list = [np.fft.ifftshift(fft_image_filt) for fft_image_filt in fft_image_filtered_list]\n",
    "    img_back_list = [np.fft.ifft2(image_ifft_filt) for image_ifft_filt in ifft_shift_image_filtered_list]\n",
    "    return [abs(image_complex) for image_complex in img_back_list]"
   ]
  },
  {
   "cell_type": "markdown",
   "metadata": {},
   "source": [
    "a) Tire a transformada das imagens noiseball.png e footBallOrig.png (enviadas juntas com a atividade). Visualize o módulo destas transformadas. Há alguma diferença?  É possível recuperar a imagem noiseball.png  e eliminar o ruído? Justifique sua resposta."
   ]
  },
  {
   "cell_type": "code",
   "execution_count": 5,
   "metadata": {},
   "outputs": [
    {
     "ename": "NameError",
     "evalue": "name 'images_list' is not defined",
     "output_type": "error",
     "traceback": [
      "\u001b[1;31m---------------------------------------------------------------------------\u001b[0m",
      "\u001b[1;31mNameError\u001b[0m                                 Traceback (most recent call last)",
      "\u001b[1;32m<ipython-input-5-5b2bde0124f2>\u001b[0m in \u001b[0;36m<module>\u001b[1;34m\u001b[0m\n\u001b[0;32m      5\u001b[0m \u001b[1;31m#     images_list[img_inedx] = cv2.cvtColor(image, cv2.COLOR_RGB2BGR)\u001b[0m\u001b[1;33m\u001b[0m\u001b[1;33m\u001b[0m\u001b[1;33m\u001b[0m\u001b[0m\n\u001b[0;32m      6\u001b[0m     \u001b[0mimages_list\u001b[0m\u001b[1;33m[\u001b[0m\u001b[0mimg_inedx\u001b[0m\u001b[1;33m]\u001b[0m \u001b[1;33m=\u001b[0m\u001b[0;31m \u001b[0m\u001b[0;31m\\\u001b[0m\u001b[1;33m\u001b[0m\u001b[1;33m\u001b[0m\u001b[0m\n\u001b[1;32m----> 7\u001b[1;33m         \u001b[0mcv2\u001b[0m\u001b[1;33m.\u001b[0m\u001b[0mnormalize\u001b[0m\u001b[1;33m(\u001b[0m\u001b[0mimages_list\u001b[0m\u001b[1;33m[\u001b[0m\u001b[0mimg_inedx\u001b[0m\u001b[1;33m]\u001b[0m\u001b[1;33m,\u001b[0m\u001b[1;32mNone\u001b[0m\u001b[1;33m,\u001b[0m\u001b[0malpha\u001b[0m\u001b[1;33m=\u001b[0m\u001b[1;36m0\u001b[0m\u001b[1;33m,\u001b[0m\u001b[0mbeta\u001b[0m\u001b[1;33m=\u001b[0m\u001b[1;36m1\u001b[0m\u001b[1;33m,\u001b[0m \u001b[0mnorm_type\u001b[0m\u001b[1;33m=\u001b[0m\u001b[0mcv2\u001b[0m\u001b[1;33m.\u001b[0m\u001b[0mNORM_MINMAX\u001b[0m\u001b[1;33m,\u001b[0m\u001b[0mdtype\u001b[0m\u001b[1;33m=\u001b[0m\u001b[0mcv2\u001b[0m\u001b[1;33m.\u001b[0m\u001b[0mCV_32F\u001b[0m\u001b[1;33m)\u001b[0m\u001b[1;33m\u001b[0m\u001b[1;33m\u001b[0m\u001b[0m\n\u001b[0m",
      "\u001b[1;31mNameError\u001b[0m: name 'images_list' is not defined"
     ]
    }
   ],
   "source": [
    "# Carregar as imagens\n",
    "images_list_ball_path = ['imagens/footBallOrig.png', 'imagens/noiseball.png']\n",
    "images_list_ball = [cv2.imread(image_path, cv2.IMREAD_GRAYSCALE) for image_path in images_list_ball_path]\n",
    "for img_inedx, image in enumerate(images_list_ball):\n",
    "#     images_list[img_inedx] = cv2.cvtColor(image, cv2.COLOR_RGB2BGR)\n",
    "    images_list[img_inedx] = \\\n",
    "        cv2.normalize(images_list[img_inedx],None,alpha=0,beta=1, norm_type=cv2.NORM_MINMAX,dtype=cv2.CV_32F)"
   ]
  },
  {
   "cell_type": "code",
   "execution_count": null,
   "metadata": {},
   "outputs": [],
   "source": [
    "fft_filters_shift_abs_ball = gerar_modulo(images_list_ball, transform=np.log)"
   ]
  },
  {
   "cell_type": "code",
   "execution_count": null,
   "metadata": {},
   "outputs": [],
   "source": [
    "# Show images\n",
    "show_subplots_image(fft_filters_shift_abs_ball, 1, 2, [20,20], 'gray')"
   ]
  },
  {
   "cell_type": "markdown",
   "metadata": {},
   "source": [
    " b) Tire a transformada inversa da imagem filtrada e visualize o resultado. Comente."
   ]
  },
  {
   "cell_type": "code",
   "execution_count": null,
   "metadata": {},
   "outputs": [],
   "source": [
    "# Filtro\n",
    "filters_list_ball = list([np.array(np.dot(1/25,[[1,4,4,4,1], [1,4,4,4,1], [1,4,4,4,1], [1,4,4,4,1], [1,4,4,4,1]]))])"
   ]
  },
  {
   "cell_type": "code",
   "execution_count": null,
   "metadata": {},
   "outputs": [],
   "source": [
    "# Filtrar imagens\n",
    "img_back_abs_list = gerar_modulo_imagem_filtrada(images_list_ball[1], filters_list_ball)"
   ]
  },
  {
   "cell_type": "code",
   "execution_count": null,
   "metadata": {},
   "outputs": [],
   "source": [
    "# Show images\n",
    "final_image_filtered = [images_list_ball[0], img_back_abs_list[0]]\n",
    "show_subplots_image(final_image_filtered, 1, 2, [20,20], 'gray')"
   ]
  }
 ],
 "metadata": {
  "kernelspec": {
   "display_name": "Python 3",
   "language": "python",
   "name": "python3"
  },
  "language_info": {
   "codemirror_mode": {
    "name": "ipython",
    "version": 3
   },
   "file_extension": ".py",
   "mimetype": "text/x-python",
   "name": "python",
   "nbconvert_exporter": "python",
   "pygments_lexer": "ipython3",
   "version": "3.6.7"
  }
 },
 "nbformat": 4,
 "nbformat_minor": 2
}
